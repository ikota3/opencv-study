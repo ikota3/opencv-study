{
 "metadata": {
  "language_info": {
   "codemirror_mode": {
    "name": "ipython",
    "version": 3
   },
   "file_extension": ".py",
   "mimetype": "text/x-python",
   "name": "python",
   "nbconvert_exporter": "python",
   "pygments_lexer": "ipython3",
   "version": "3.5.5-final"
  },
  "orig_nbformat": 2,
  "kernelspec": {
   "name": "python35564bitopencvv4conda9fb5750e41944282aa16ff8265cbb257",
   "display_name": "Python 3.5.5 64-bit ('opencv_v4': conda)"
  }
 },
 "nbformat": 4,
 "nbformat_minor": 2,
 "cells": [
  {
   "cell_type": "code",
   "execution_count": 1,
   "metadata": {},
   "outputs": [],
   "source": [
    "import cv2\n",
    "import numpy as np"
   ]
  },
  {
   "cell_type": "code",
   "execution_count": 2,
   "metadata": {},
   "outputs": [],
   "source": [
    "img = cv2.imread('./src/grapes.jpg')\n",
    "h, w = img.shape[:2]\n",
    "dx, dy = 30, 30"
   ]
  },
  {
   "cell_type": "code",
   "execution_count": 3,
   "metadata": {},
   "outputs": [],
   "source": [
    "afn_mat = np.float32([\n",
    "    [1, 0, dx], \n",
    "    [0, 1, dy]\n",
    "])\n",
    "img_afn = cv2.warpAffine(img, afn_mat, (w, h))"
   ]
  },
  {
   "cell_type": "code",
   "execution_count": 4,
   "metadata": {},
   "outputs": [],
   "source": [
    "cv2.imshow('trans', img_afn)\n",
    "cv2.waitKey(0)\n",
    "cv2.destroyAllWindows()"
   ]
  },
  {
   "cell_type": "code",
   "execution_count": 5,
   "metadata": {},
   "outputs": [],
   "source": [
    "rot_mat = cv2.getRotationMatrix2D((w/2, h/2), 40, 1)\n",
    "img_afn2 = cv2.warpAffine(img, rot_mat, (w, h))"
   ]
  },
  {
   "cell_type": "code",
   "execution_count": 6,
   "metadata": {},
   "outputs": [],
   "source": [
    "cv2.imshow('rotation', img_afn2)\n",
    "cv2.waitKey(0)\n",
    "cv2.destroyAllWindows()"
   ]
  }
 ]
}