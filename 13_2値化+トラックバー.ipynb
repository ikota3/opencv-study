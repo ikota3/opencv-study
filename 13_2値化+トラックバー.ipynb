{
 "metadata": {
  "language_info": {
   "codemirror_mode": {
    "name": "ipython",
    "version": 3
   },
   "file_extension": ".py",
   "mimetype": "text/x-python",
   "name": "python",
   "nbconvert_exporter": "python",
   "pygments_lexer": "ipython3",
   "version": "3.5.5-final"
  },
  "orig_nbformat": 2,
  "kernelspec": {
   "name": "python35564bitopencvv4conda9fb5750e41944282aa16ff8265cbb257",
   "display_name": "Python 3.5.5 64-bit ('opencv_v4': conda)"
  }
 },
 "nbformat": 4,
 "nbformat_minor": 2,
 "cells": [
  {
   "cell_type": "code",
   "execution_count": 1,
   "metadata": {},
   "outputs": [],
   "source": [
    "import cv2"
   ]
  },
  {
   "cell_type": "code",
   "execution_count": 2,
   "metadata": {},
   "outputs": [],
   "source": [
    "img = cv2.imread('./src/floor.jpg', 0)"
   ]
  },
  {
   "cell_type": "code",
   "execution_count": 3,
   "metadata": {},
   "outputs": [],
   "source": [
    "cv2.imshow('img', img)\n",
    "cv2.waitKey(0)\n",
    "cv2.destroyAllWindows()"
   ]
  },
  {
   "cell_type": "code",
   "execution_count": 6,
   "metadata": {},
   "outputs": [],
   "source": [
    "def onTrackbar(position):\n",
    "    global threshold\n",
    "    threshold = position\n",
    "\n",
    "threshold = 100\n",
    "cv2.namedWindow('img_th')\n",
    "cv2.createTrackbar('track', 'img_th', threshold, 255, onTrackbar)\n",
    "while True:\n",
    "    # ret, img_th = cv2.threshold(img, threshold, 255, cv2.THRESH_BINARY)\n",
    "    img_th = cv2.adaptiveThreshold(img, 255, cv2.ADAPTIVE_THRESH_MEAN_C, cv2.THRESH_BINARY, 3, threshold)\n",
    "    cv2.imshow('img_th', img_th)\n",
    "    cv2.imshow('img', img)\n",
    "    if cv2.waitKey(10) == 27:\n",
    "        break\n",
    "cv2.destroyAllWindows()"
   ]
  }
 ]
}