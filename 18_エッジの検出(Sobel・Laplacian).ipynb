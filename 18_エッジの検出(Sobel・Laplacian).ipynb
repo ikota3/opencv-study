{
 "metadata": {
  "language_info": {
   "codemirror_mode": {
    "name": "ipython",
    "version": 3
   },
   "file_extension": ".py",
   "mimetype": "text/x-python",
   "name": "python",
   "nbconvert_exporter": "python",
   "pygments_lexer": "ipython3",
   "version": "3.5.5-final"
  },
  "orig_nbformat": 2,
  "kernelspec": {
   "name": "python35564bitopencvv4conda9fb5750e41944282aa16ff8265cbb257",
   "display_name": "Python 3.5.5 64-bit ('opencv_v4': conda)"
  }
 },
 "nbformat": 4,
 "nbformat_minor": 2,
 "cells": [
  {
   "cell_type": "code",
   "execution_count": 1,
   "metadata": {},
   "outputs": [],
   "source": [
    "import cv2"
   ]
  },
  {
   "cell_type": "code",
   "execution_count": 2,
   "metadata": {},
   "outputs": [],
   "source": [
    "img = cv2.imread('./src/Lena.jpg', 0)\n",
    "cv2.imshow('img', img)\n",
    "cv2.waitKey(0)\n",
    "cv2.destroyAllWindows()"
   ]
  },
  {
   "cell_type": "code",
   "execution_count": 3,
   "metadata": {},
   "outputs": [],
   "source": [
    "img_sobelx = cv2.Sobel(img, cv2.CV_32F, 1, 0, ksize=3)\n",
    "img_sobely = cv2.Sobel(img, cv2.CV_32F, 0, 1, ksize=3)"
   ]
  },
  {
   "cell_type": "code",
   "execution_count": 4,
   "metadata": {},
   "outputs": [
    {
     "output_type": "execute_result",
     "data": {
      "text/plain": "array([[   0.,   -4.,   -6., ...,  -72., -174.,    0.],\n       [   0.,   -1.,   -5., ...,  -68., -176.,    0.],\n       [   0.,    3.,   -5., ...,  -58., -169.,    0.],\n       ...,\n       [   0.,   31.,   14., ...,   -1.,  -12.,    0.],\n       [   0.,   51.,   26., ...,    6.,    9.,    0.],\n       [   0.,   58.,   28., ...,   10.,   20.,    0.]], dtype=float32)"
     },
     "metadata": {},
     "execution_count": 4
    }
   ],
   "source": [
    "img_sobelx"
   ]
  },
  {
   "cell_type": "code",
   "execution_count": 7,
   "metadata": {},
   "outputs": [],
   "source": [
    "img_sobelx = cv2.convertScaleAbs(img_sobelx)\n",
    "img_sobely = cv2.convertScaleAbs(img_sobely)"
   ]
  },
  {
   "cell_type": "code",
   "execution_count": 6,
   "metadata": {},
   "outputs": [
    {
     "output_type": "execute_result",
     "data": {
      "text/plain": "array([[  0,   4,   6, ...,  72, 174,   0],\n       [  0,   1,   5, ...,  68, 176,   0],\n       [  0,   3,   5, ...,  58, 169,   0],\n       ...,\n       [  0,  31,  14, ...,   1,  12,   0],\n       [  0,  51,  26, ...,   6,   9,   0],\n       [  0,  58,  28, ...,  10,  20,   0]], dtype=uint8)"
     },
     "metadata": {},
     "execution_count": 6
    }
   ],
   "source": [
    "img_sobelx"
   ]
  },
  {
   "cell_type": "code",
   "execution_count": 8,
   "metadata": {},
   "outputs": [],
   "source": [
    "cv2.imshow('x', img_sobelx)\n",
    "cv2.imshow('y', img_sobely)\n",
    "cv2.waitKey(0)\n",
    "cv2.destroyAllWindows()"
   ]
  },
  {
   "cell_type": "code",
   "execution_count": 9,
   "metadata": {},
   "outputs": [],
   "source": [
    "img_lap = cv2.Laplacian(img, cv2.CV_32F)"
   ]
  },
  {
   "cell_type": "code",
   "execution_count": 10,
   "metadata": {},
   "outputs": [],
   "source": [
    "img_lap = cv2.convertScaleAbs(img_lap)"
   ]
  },
  {
   "cell_type": "code",
   "execution_count": 12,
   "metadata": {},
   "outputs": [],
   "source": [
    "img_lap *= 2"
   ]
  },
  {
   "cell_type": "code",
   "execution_count": 13,
   "metadata": {},
   "outputs": [],
   "source": [
    "cv2.imshow('lap', img_lap)\n",
    "cv2.waitKey(0)\n",
    "cv2.destroyAllWindows()"
   ]
  },
  {
   "cell_type": "code",
   "execution_count": 14,
   "metadata": {},
   "outputs": [],
   "source": [
    "img_blur = cv2.GaussianBlur(img, (3, 3), 2)\n",
    "img_lap2 = cv2.Laplacian(img_blur, cv2.CV_32F)\n",
    "img_lap2 = cv2.convertScaleAbs(img_lap2)"
   ]
  },
  {
   "cell_type": "code",
   "execution_count": 16,
   "metadata": {},
   "outputs": [],
   "source": [
    "img_lap2 *= 2"
   ]
  },
  {
   "cell_type": "code",
   "execution_count": 17,
   "metadata": {},
   "outputs": [],
   "source": [
    "cv2.imshow('lap', img_lap2)\n",
    "cv2.waitKey(0)\n",
    "cv2.destroyAllWindows()"
   ]
  }
 ]
}