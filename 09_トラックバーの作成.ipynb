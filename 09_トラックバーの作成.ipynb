{
 "metadata": {
  "language_info": {
   "codemirror_mode": {
    "name": "ipython",
    "version": 3
   },
   "file_extension": ".py",
   "mimetype": "text/x-python",
   "name": "python",
   "nbconvert_exporter": "python",
   "pygments_lexer": "ipython3",
   "version": "3.5.5-final"
  },
  "orig_nbformat": 2,
  "kernelspec": {
   "name": "python35564bitopencvv4conda9fb5750e41944282aa16ff8265cbb257",
   "display_name": "Python 3.5.5 64-bit ('opencv_v4': conda)"
  }
 },
 "nbformat": 4,
 "nbformat_minor": 2,
 "cells": [
  {
   "cell_type": "code",
   "execution_count": 1,
   "metadata": {},
   "outputs": [],
   "source": [
    "import cv2"
   ]
  },
  {
   "cell_type": "code",
   "execution_count": 2,
   "metadata": {},
   "outputs": [],
   "source": [
    "def onTrackbar(position):\n",
    "    global trackValue\n",
    "    trackValue = position\n",
    "\n",
    "trackValue = 100\n",
    "cv2.namedWindow('img')\n",
    "cv2.createTrackbar('trackbar', 'img', trackValue, 255, onTrackbar)\n",
    "cv2.waitKey(0)\n",
    "cv2.destroyAllWindows()"
   ]
  }
 ]
}